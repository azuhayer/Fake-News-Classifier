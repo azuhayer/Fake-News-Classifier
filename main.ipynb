{
 "cells": [
  {
   "cell_type": "markdown",
   "id": "3e4358e9",
   "metadata": {},
   "source": [
    "FAKE NEWS CLASSIFIER </br>\n",
    "Name: Zuhayer Alvi </br>\n",
    "CSC 44800"
   ]
  },
  {
   "cell_type": "code",
   "execution_count": null,
   "id": "b8ead55a",
   "metadata": {},
   "outputs": [],
   "source": [
    "# Import needed libraries \n",
    "import pandas as pd\n",
    "import numpy as np\n",
    "import seaborn as sns\n",
    "import matplotlib.pyplot as plt\n",
    "from sklearn.model_selection import train_test_split\n",
    "from sklearn.metrics import accuracy_score\n",
    "from sklearn.metrics import classification_report\n",
    "import re\n",
    "import string"
   ]
  }
 ],
 "metadata": {
  "kernelspec": {
   "display_name": "Python 3",
   "language": "python",
   "name": "python3"
  },
  "language_info": {
   "name": "python",
   "version": "3.12.0"
  }
 },
 "nbformat": 4,
 "nbformat_minor": 5
}
